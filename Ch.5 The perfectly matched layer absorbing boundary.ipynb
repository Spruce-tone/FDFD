{
 "cells": [
  {
   "cell_type": "code",
   "execution_count": 2,
   "metadata": {},
   "outputs": [],
   "source": [
    "import numpy as np\n",
    "import scipy.sparse as sp\n",
    "from scipy.sparse import csr_matrix\n",
    "from typing import Union, Tuple, List\n",
    "from lib.utils import *\n",
    "from lib.mat_operator import *\n",
    "from lib.PML import *\n",
    "import matplotlib.pyplot as plt\n",
    "\n",
    "%load_ext autoreload\n",
    "%autoreload 2"
   ]
  },
  {
   "cell_type": "code",
   "execution_count": 2,
   "metadata": {},
   "outputs": [],
   "source": [
    "Nx = 5\n",
    "Ny = 5\n",
    "NPML = (2, 2, 2, 2)\n",
    "ER2 = np.ones((2*Nx, 2*Ny))\n",
    "UR2 = np.ones((2*Nx, 2*Ny))\n",
    "\n",
    "ERxx,ERyy,ERzz,URxx,URyy,URzz = uplm2d(ER2, UR2, NPML)"
   ]
  },
  {
   "cell_type": "code",
   "execution_count": 10,
   "metadata": {},
   "outputs": [
    {
     "name": "stdout",
     "output_type": "stream",
     "text": [
      "2.0700-0.0100j 0.3600+0.0000j 0.0000+0.0100j 0.0800+0.0100j 1.0000+0.0000j\n",
      "25.8100-2.5000j 4.4400-0.3600j 0.0100+0.1100j 1.0000+0.0000j 12.4800-1.1700j\n",
      "4.0000-240.0000j 1.3800-41.2500j 1.0000+0.0000j 1.0500-9.2000j 2.2700-116.0300j\n",
      "5.8100-0.1000j 1.0000+0.0000j 0.0000+0.0200j 0.2200+0.0200j 2.8100-0.0400j\n",
      "1.0000+0.0000j 0.1700+0.0000j 0.0000+0.0000j 0.0400+0.0000j 0.4800+0.0000j\n"
     ]
    }
   ],
   "source": [
    "for i in ERxx:\n",
    "    i = np.round(i, 2)\n",
    "    print(f'{i[0]:.4f} {i[1]:.4f} {i[2]:.4f} {i[3]:.4f} {i[4]:.4f}')"
   ]
  },
  {
   "cell_type": "code",
   "execution_count": 3,
   "metadata": {},
   "outputs": [],
   "source": [
    "NGRID = (6, 6, 6)\n",
    "NPML = (2, 2, 2, 2, 2, 2)\n",
    "Nx, Ny, Nz = NGRID \n",
    "amax = 4\n",
    "cmax = 1\n",
    "p = 3\n",
    "\n",
    "# extract PML size\n",
    "NXLO, NXHI, NYLO, NYHI, NZLO, NZHI = NPML\n",
    "sx = np.ones((Nx, Ny, Nz), dtype='complex_')\n",
    "sy = np.ones_like(sx, dtype='complex_')\n",
    "sz = np.ones_like(sx, dtype='complex_')"
   ]
  },
  {
   "cell_type": "code",
   "execution_count": 4,
   "metadata": {},
   "outputs": [],
   "source": [
    "sx, sy, sz = plm3d(NGRID, NPML)"
   ]
  }
 ],
 "metadata": {
  "kernelspec": {
   "display_name": "fdfd",
   "language": "python",
   "name": "python3"
  },
  "language_info": {
   "codemirror_mode": {
    "name": "ipython",
    "version": 3
   },
   "file_extension": ".py",
   "mimetype": "text/x-python",
   "name": "python",
   "nbconvert_exporter": "python",
   "pygments_lexer": "ipython3",
   "version": "3.8.15"
  },
  "orig_nbformat": 4,
  "vscode": {
   "interpreter": {
    "hash": "2387efbc00da274ff26347601a2473d10d8d900123a56f2d6656cf650056a122"
   }
  }
 },
 "nbformat": 4,
 "nbformat_minor": 2
}
